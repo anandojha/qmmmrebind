{
 "cells": [
  {
   "cell_type": "code",
   "execution_count": null,
   "metadata": {},
   "outputs": [],
   "source": [
    "from parameterize import *\n",
    "system = PrepareQMMM(init_pdb = \"test_system.pdb\", \n",
    "                     distance = 6.0, \n",
    "                     num_residues = 2, \n",
    "                     guest_resname = \"BEN\")\n",
    "qm_guest = PrepareGaussianGuest(charge = 1, \n",
    "                                multiplicity = 1)\n",
    "qm_system = PrepareGaussianHostGuest(charge = 1, \n",
    "                                     multiplicity = 1)\n",
    "params_guest = ParameterizeGuest(vibrational_scaling = 1.00)\n",
    "qm_host = PrepareGaussianHost(charge = 0, \n",
    "                              multiplicity = 1)\n",
    "params_host = ParameterizeHost(vibrational_scaling = 1.00)\n",
    "system_guest = GuestAmberXMLAmber(charge = 1, \n",
    "                                  num_charge_atoms = 1, \n",
    "                                  index_charge_atom_1 = 9, \n",
    "                                  charge_atom_1 = 1)\n",
    "system_host = HostAmberXMLAmber()\n",
    "guest_openmm = RunOpenMMSims(system_prmtop = \"guest_params.prmtop\", \n",
    "                             system_inpcrd = \"guest_params.inpcrd\", \n",
    "                             system_pdb = \"guest_init_II.pdb\")\n",
    "host_openmm = RunOpenMMSims(system_prmtop = \"host_params.prmtop\", \n",
    "                            system_inpcrd = \"host_params.inpcrd\", \n",
    "                            system_pdb = \"host.pdb\")\n",
    "merge_host_guest = MergeHostGuestTopology(host_prmtop = \"host_params.prmtop\", \n",
    "                                          guest_prmtop = \"guest_params.prmtop\", \n",
    "                                          host_inpcrd = \"host_params.inpcrd\",\n",
    "                                          guest_inpcrd = \"guest_params.inpcrd\", \n",
    "                                          system_prmtop = \"system_params.prmtop\", \n",
    "                                          system_inpcrd = \"system_params.inpcrd\")\n",
    "system_openmm = RunOpenMMSims(system_prmtop = \"system_params.prmtop\", \n",
    "                              system_inpcrd = \"system_params.inpcrd\", \n",
    "                              system_pdb = \"system.pdb\")\n",
    "guest_torsion_params = TorsionDriveSims(charge = 1, \n",
    "                                        multiplicity = 1)\n",
    "guest_write_params = TorsionDriveParams(num_charge_atoms = 1, \n",
    "                                        index_charge_atom_1 = 9, \n",
    "                                        charge_atom_1 = 1)"
   ]
  },
  {
   "cell_type": "markdown",
   "metadata": {},
   "source": [
    "## Initial files needed : Host-Guest PDB"
   ]
  },
  {
   "cell_type": "markdown",
   "metadata": {},
   "source": [
    "## Step I : Defining QM and MM Regions"
   ]
  },
  {
   "cell_type": "code",
   "execution_count": null,
   "metadata": {},
   "outputs": [],
   "source": [
    "system.clean_up()\n",
    "system.create_host_guest()\n",
    "system.realign_guest()\n",
    "system.get_guest_coord()\n",
    "system.get_qm_resids()\n",
    "system.get_host_qm_mm_atoms()\n",
    "system.save_host_pdbs()\n",
    "system.get_host_mm_region_atoms()\n",
    "system.save_host_mm_regions_pdbs()\n",
    "system.get_qm_mm_regions()"
   ]
  },
  {
   "cell_type": "markdown",
   "metadata": {},
   "source": [
    "## Step II : Guest QM Calculation "
   ]
  },
  {
   "cell_type": "code",
   "execution_count": null,
   "metadata": {},
   "outputs": [],
   "source": [
    "qm_guest.write_input()\n",
    "#qm_guest.run_gaussian()\n",
    "#qm_guest.get_fchk()"
   ]
  },
  {
   "cell_type": "markdown",
   "metadata": {},
   "source": [
    "## Step III : QM Calculation of the Host-Guest region for QM - Derived Charges"
   ]
  },
  {
   "cell_type": "code",
   "execution_count": null,
   "metadata": {},
   "outputs": [],
   "source": [
    "qm_system.write_input()\n",
    "#qm_system.run_gaussian()\n",
    "#qm_system.get_fchk()\n",
    "qm_system.get_qm_host_guest_charges()"
   ]
  },
  {
   "cell_type": "markdown",
   "metadata": {},
   "source": [
    "## Step IV : Guest Re - Parameterization"
   ]
  },
  {
   "cell_type": "code",
   "execution_count": null,
   "metadata": {},
   "outputs": [],
   "source": [
    "params_guest.get_xyz()\n",
    "params_guest.get_unprocessed_hessian()\n",
    "params_guest.get_bond_angles()\n",
    "params_guest.get_hessian()\n",
    "params_guest.get_atom_names()\n",
    "params_guest.get_bond_angle_params()\n",
    "params_guest.get_charges()\n",
    "params_guest.get_proper_dihedrals()"
   ]
  },
  {
   "cell_type": "markdown",
   "metadata": {},
   "source": [
    "## Step V : Host (Residues / Region Surrounding the Guest) QM Calculation "
   ]
  },
  {
   "cell_type": "code",
   "execution_count": null,
   "metadata": {},
   "outputs": [],
   "source": [
    "qm_host.write_input()\n",
    "#qm_host.run_gaussian()\n",
    "#qm_host.get_fchk()"
   ]
  },
  {
   "cell_type": "markdown",
   "metadata": {},
   "source": [
    "## Step VI : Host (Residues / Region Surrounding the Guest)  Re - Parameterization"
   ]
  },
  {
   "cell_type": "code",
   "execution_count": null,
   "metadata": {},
   "outputs": [],
   "source": [
    "params_host.get_xyz()\n",
    "params_host.get_unprocessed_hessian()\n",
    "params_host.get_bond_angles()\n",
    "params_host.get_hessian()\n",
    "params_host.get_atom_names()\n",
    "params_host.get_bond_angle_params()\n",
    "params_host.get_charges()"
   ]
  },
  {
   "cell_type": "markdown",
   "metadata": {},
   "source": [
    "## Step VII : Generation of Re - Parameterized .prmtop & .inpcrd Files for Guest"
   ]
  },
  {
   "cell_type": "code",
   "execution_count": null,
   "metadata": {},
   "outputs": [],
   "source": [
    "system_guest.generate_xml_from_charged_pdb_sdf()\n",
    "system_guest.write_system_params()\n",
    "system_guest.write_reparameterised_system_xml()\n",
    "system_guest.save_amber_params()\n",
    "system_guest.analyze_diff_energies()"
   ]
  },
  {
   "cell_type": "markdown",
   "metadata": {},
   "source": [
    "## Step VIII : Generation of Re - Parameterized .prmtop & .inpcrd Files for the Host"
   ]
  },
  {
   "cell_type": "code",
   "execution_count": null,
   "metadata": {},
   "outputs": [],
   "source": [
    "system_host.serialize_system()\n",
    "system_host.write_system_params()\n",
    "system_host.write_reparameterised_system_xml()\n",
    "system_host.save_amber_params()\n",
    "system_host.analyze_diff_energies()"
   ]
  },
  {
   "cell_type": "markdown",
   "metadata": {},
   "source": [
    "## Step IX : OpenMM Test - Run of the Newly Generated Parameter Files for the System"
   ]
  },
  {
   "cell_type": "code",
   "execution_count": null,
   "metadata": {},
   "outputs": [],
   "source": [
    "guest_openmm.run_openmm_prmtop_inpcrd()\n",
    "guest_openmm.run_openmm_prmtop_pdb()\n",
    "host_openmm.run_openmm_prmtop_inpcrd()\n",
    "host_openmm.run_openmm_prmtop_pdb()\n",
    "merge_host_guest.merge_topology_files()\n",
    "system_openmm.run_openmm_prmtop_inpcrd()\n",
    "system_openmm.run_openmm_prmtop_pdb()"
   ]
  },
  {
   "cell_type": "markdown",
   "metadata": {},
   "source": [
    "### Step X : Re - Parameterization of the torsion angles for the Guest"
   ]
  },
  {
   "cell_type": "code",
   "execution_count": null,
   "metadata": {},
   "outputs": [],
   "source": [
    "guest_torsion_params.write_torsion_drive_run_file()\n",
    "guest_torsion_params.write_tor_params_txt()\n",
    "guest_torsion_params.write_psi4_input()\n",
    "guest_torsion_params.create_non_H_bonded_torsion_drive_dir()\n",
    "guest_torsion_params.run_torsion_sim()"
   ]
  },
  {
   "cell_type": "code",
   "execution_count": null,
   "metadata": {},
   "outputs": [],
   "source": [
    "guest_write_params.write_reparams_torsion_lines_charged()"
   ]
  },
  {
   "cell_type": "code",
   "execution_count": null,
   "metadata": {},
   "outputs": [],
   "source": [
    "guest_write_params.write_torsional_reparams()"
   ]
  },
  {
   "cell_type": "markdown",
   "metadata": {},
   "source": [
    "### Step XII : Solvation and Ion addition to the system"
   ]
  }
 ],
 "metadata": {
  "kernelspec": {
   "display_name": "Python 3",
   "language": "python",
   "name": "python3"
  },
  "language_info": {
   "codemirror_mode": {
    "name": "ipython",
    "version": 3
   },
   "file_extension": ".py",
   "mimetype": "text/x-python",
   "name": "python",
   "nbconvert_exporter": "python",
   "pygments_lexer": "ipython3",
   "version": "3.8.8"
  }
 },
 "nbformat": 4,
 "nbformat_minor": 4
}
